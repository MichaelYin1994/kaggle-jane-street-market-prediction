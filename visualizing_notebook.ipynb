{
 "metadata": {
  "language_info": {
   "codemirror_mode": {
    "name": "ipython",
    "version": 3
   },
   "file_extension": ".py",
   "mimetype": "text/x-python",
   "name": "python",
   "nbconvert_exporter": "python",
   "pygments_lexer": "ipython3",
   "version": 3
  },
  "orig_nbformat": 2
 },
 "nbformat": 4,
 "nbformat_minor": 2,
 "cells": [
  {
   "cell_type": "code",
   "execution_count": null,
   "metadata": {},
   "outputs": [],
   "source": [
    "plot_config = dict({'scrollZoom': False, 'displayModeBar': True, 'displaylogo': False})\n",
    "fig = make_subplots(rows=2, cols=2)\n",
    "ind = 1\n",
    "for row in range(1, 2+1):\n",
    "    for col in range(1, 2+1):\n",
    "        resp_tmp = np.cumsum(train_df[\"resp_{}\".format(ind)].head(200000).values)\n",
    "        ts_id = train_df[\"ts_id\"].head(200000).values\n",
    "\n",
    "        fig.add_trace(go.Scatter(x=ts_id, y=resp_tmp,\n",
    "                                 mode=\"lines\", line_width=2,\n",
    "                                 line_color=default_color_list[ind],\n",
    "                                 name=\"resp_{}\".format(row)), row=row, col=col)\n",
    "        fig.update_yaxes(title_text=\"resp_{}\".format(ind), ticks=\"outside\",\n",
    "                         row=row, col=col, automargin=True)\n",
    "        ind += 1\n",
    "\n",
    "# fig.update_layout(go.Layout(title=\"resp plot\", width=900, height=800,\n",
    "#                             showlegend=False))\n",
    "# fig.show(config=plot_config)"
   ]
  }
 ]
}